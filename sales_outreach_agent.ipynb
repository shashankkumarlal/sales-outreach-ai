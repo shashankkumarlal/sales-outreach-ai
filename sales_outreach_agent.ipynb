# ------------------------------
# ✅ INSTALL DEPENDENCIES
# ------------------------------
!pip install langchain langchain_groq pandas python-dotenv --quiet

# ------------------------------
# ✅ IMPORTS & SETUP
# ------------------------------
import os
import pandas as pd
from datetime import datetime, timedelta
import smtplib, ssl
from email.mime.text import MIMEText
import getpass

from langchain_groq import ChatGroq
from langchain.prompts import PromptTemplate
from langchain.chains import LLMChain

# ------------------------------
# ✅ CONFIGURATION
# ------------------------------

# 1. Groq API key (for LLaMA 3)
GROQ_API_KEY = getpass.getpass("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")

# 2. Gmail SMTP credentials
EMAIL_ADDRESS = input("Enter your Gmail address: ")
EMAIL_APP_PASSWORD = getpass.getpass("Enter your Gmail App Password (https://myaccount.google.com/apppasswords): ")

# 3. CSV file with leads - upload in Colab
LEADS_CSV = "leads.csv"

# 4. Follow-up interval in days
FOLLOWUP_DAYS = 3

# ------------------------------
# ✅ Initialize LLM (LLaMA 3)
# ------------------------------
llm = ChatGroq(model_name="llama3-70b-8192", groq_api_key=GROQ_API_KEY)

# ------------------------------
# ✅ Define prompt templates
# ------------------------------

cold_template = PromptTemplate(
    input_variables=["name", "company", "product", "pain_points", "goal", "tone"],
    template="""
You are an AI sales assistant.
Write a personalized cold email in a {tone} tone:
- Recipient Name: {name}
- Company: {company}
- Product: {product}
- Pain Points: {pain_points}
- Goal: {goal}

The email should be concise, friendly, and include a clear call to action.
"""
)

followup_template = PromptTemplate(
    input_variables=["name", "company", "product", "goal", "prev_email_summary", "tone"],
    template="""
You are an AI sales assistant.
Write a polite follow-up email in a {tone} tone based on the previous outreach.
- Recipient Name: {name}
- Company: {company}
- Product: {product}
- Previous Email Summary: {prev_email_summary}
- Goal: {goal}

The email should remind them of the last email and include a call to action.
"""
)

reply_classify_template = PromptTemplate(
    input_variables=["reply_text"],
    template="""
You are an AI that classifies sales email replies into one of these categories: Positive, Negative, Objection, Unsubscribe, Other.

Reply Text:
{reply_text}

Category:
"""
)

objection_reply_template = PromptTemplate(
    input_variables=["name", "objection_text", "tone"],
    template="""
You are an AI sales assistant.
Write a polite and persuasive reply to overcome this objection:
"{objection_text}"
Address the concerns and try to re-engage the lead.
Use a {tone} tone.
"""
)

# Initialize chains
cold_chain = LLMChain(llm=llm, prompt=cold_template)
followup_chain = LLMChain(llm=llm, prompt=followup_template)
reply_classify_chain = LLMChain(llm=llm, prompt=reply_classify_template)
objection_reply_chain = LLMChain(llm=llm, prompt=objection_reply_template)

# ------------------------------
# ✅ HELPER FUNCTIONS
# ------------------------------

def load_leads(csv_path):
    df = pd.read_csv(csv_path)
    for col in ["step", "last_email", "followup_date", "last_reply", "tone"]:
        if col not in df.columns:
            df[col] = None
    df["step"] = df["step"].fillna(0).astype(int)
    df["tone"] = df["tone"].fillna("friendly")
    return df

from email.mime.text import MIMEText
from email.mime.multipart import MIMEMultipart

def send_email(to_email, subject, body):
    try:
        # Construct the email
        msg = MIMEMultipart()
        msg["From"] = EMAIL_ADDRESS
        msg["To"] = to_email
        msg["Subject"] = subject
        msg["Bcc"] = EMAIL_ADDRESS  # Optional: Bcc yourself

        msg.attach(MIMEText(body, "plain"))

        # Send the email
        context = ssl.create_default_context()
        with smtplib.SMTP_SSL("smtp.gmail.com", 465, context=context) as server:
            server.login(EMAIL_ADDRESS, EMAIL_APP_PASSWORD)
            server.send_message(msg)

        print(f"✅ Email sent successfully to {to_email}")

    except Exception as e:
        print(f"❌ Failed to send email to {to_email}: {e}")


def schedule_followup():
    return (datetime.now() + timedelta(days=FOLLOWUP_DAYS)).strftime("%Y-%m-%d")

def classify_reply(reply_text):
    """Classify reply using LangChain model"""
    category = reply_classify_chain.run({"reply_text": reply_text}).strip().lower()
    return category

def generate_objection_reply(name, objection_text, tone):
    """Generate objection reply using LangChain model"""
    return objection_reply_chain.run({
        "name": name,
        "objection_text": objection_text,
        "tone": tone
    })

# ------------------------------
# ✅ MAIN WORKFLOW
# ------------------------------

print("Loading leads...")
df = load_leads(LEADS_CSV)

print("Starting outreach process...")

for idx, row in df.iterrows():
    try:
        # Here you would normally check email replies via API or mailbox,
        # but for simplicity, assume no reply checking in this SMTP-only version
        # You can add your own logic if you want to connect to IMAP/POP3 or Gmail API for reading

        # Send cold email or follow-up based on step and last email sent
        if row["step"] == 0:
            email_body = cold_chain.run({
                "name": row["name"],
                "company": row["company"],
                "product": row.get("product", "Your Product"),
                "pain_points": row.get("pain_points", ""),
                "goal": "book a demo",
                "tone": row.get("tone", "friendly")
            })
            send_email(row["email"], "Introduction to Our Solution", email_body)
            df.at[idx, "last_email"] = "cold"
            df.at[idx, "step"] = 1
            df.at[idx, "followup_date"] = schedule_followup()

        elif row["step"] == 1:
            if row["followup_date"]:
                try:
                    followup_datetime = datetime.strptime(str(row["followup_date"]), "%Y-%m-%d")
                    if datetime.now() >= followup_datetime:
                        prev_summary = "Initial outreach email about product benefits and booking a demo."
                        followup_body = followup_chain.run({
                            "name": row["name"],
                            "company": row["company"],
                            "product": row.get("product", "Your Product"),
                            "prev_email_summary": prev_summary,
                            "goal": "book a demo",
                            "tone": row.get("tone", "friendly")
                        })
                        send_email(row["email"], "Quick Follow-Up", followup_body)
                        df.at[idx, "last_email"] = "follow-up"
                        df.at[idx, "step"] = 2
                except Exception as e:
                    print(f"Error with follow-up date for {row['email']}: {e}")

    except Exception as e:
        print(f"Unexpected error for lead {row['email']}: {e}")

# Save updated leads CSV
df.to_csv(LEADS_CSV, index=False)
print(f"Workflow complete. Updated {LEADS_CSV} saved.")
